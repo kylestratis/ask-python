{
 "cells": [
  {
   "cell_type": "markdown",
   "id": "64fc1954-b716-4d0d-8c11-07c1fd8ff15d",
   "metadata": {},
   "source": [
    "# Ask Python\n",
    "\n",
    "This project is an effort to showcase how to use Milvus for semantic search and **retrieval-augmented generation** (**RAG**) with a **large language model** (**LLM**). It demonstrates how to use `llama-index` with Milvus to download, extract, and load data from plain text files into the Milvus vector store, and then use them as context when querying an LLM of choice.\n",
    "\n",
    "## Prerequisites\n",
    "While \n"
   ]
  },
  {
   "cell_type": "code",
   "execution_count": null,
   "id": "4471ceca-18d2-4e52-b3f6-f1df0e53ec51",
   "metadata": {},
   "outputs": [],
   "source": [
    "!pip install milvus pymilvus llama-index requests openai transformers torch"
   ]
  },
  {
   "cell_type": "code",
   "execution_count": 2,
   "id": "c5790b37-699f-4d83-b109-1cf078f0516a",
   "metadata": {},
   "outputs": [],
   "source": [
    "# Standard library imports\n",
    "import requests\n",
    "import tarfile\n",
    "\n",
    "# External imports\n",
    "from IPython.display import display\n",
    "from llama_index import ServiceContext, SimpleDirectoryReader, VectorStoreIndex\n",
    "from llama_index.embeddings import HuggingFaceEmbedding\n",
    "from llama_index.storage.storage_context import StorageContext\n",
    "from llama_index.vector_stores import MilvusVectorStore\n",
    "from milvus import default_server\n",
    "import openai\n",
    "from pymilvus import connections, utility\n",
    "\n",
    "# Internal imports\n",
    "from config import OPENAI_KEY"
   ]
  },
  {
   "cell_type": "markdown",
   "id": "f256ed1c-d5c4-408c-b52b-6fe7d0a2d7b8",
   "metadata": {},
   "source": [
    "# Only run this if you're planning to use \n",
    "openai.api_key = OPENAI_KEY"
   ]
  },
  {
   "cell_type": "code",
   "execution_count": 3,
   "id": "c4ea3d6b-32b1-43c6-8613-964cf44c9c67",
   "metadata": {},
   "outputs": [],
   "source": [
    "DOCS_URL = \"https://docs.python.org/3/archives/python-3.11.5-docs-text.tar.bz2\""
   ]
  },
  {
   "cell_type": "markdown",
   "id": "81b411b3-b6e1-4ce4-8444-9157b9f43b79",
   "metadata": {},
   "source": [
    "If you don't have the dataset from the repo, you can download and extract the full set in the cell below. While you can try to embed the entire Python documents, to reduce your costs and time spent generating embeddings, you can remove all directories and files except for `faq`, `howto`, `library`, `tutorial`, and `glossary.txt`.\n",
    "\n",
    "**Note**: If using OpenAI, make sure you have a payment method set up so that you aren't subject to daily request limits."
   ]
  },
  {
   "cell_type": "code",
   "execution_count": null,
   "id": "1f53fd33-583c-43c1-8a44-35417177b43d",
   "metadata": {},
   "outputs": [],
   "source": [
    "response = requests.get(DOCS_URL, stream=True)\n",
    "file = tarfile.open(fileobj=response.raw, mode=\"r|bz2\")\n",
    "file.extractall(path=\"python_docs\")"
   ]
  },
  {
   "cell_type": "markdown",
   "id": "c219742d-909a-4428-afee-fc45af833a9f",
   "metadata": {},
   "source": [
    "Next, we will use SimpleDirectoryReader to load the text data into a `docs` object."
   ]
  },
  {
   "cell_type": "code",
   "execution_count": 16,
   "id": "21365436-59f5-4741-bedd-7a74d5af1126",
   "metadata": {},
   "outputs": [],
   "source": [
    "reader = SimpleDirectoryReader(\n",
    "    input_dir=\"python_docs\", required_exts=[\".txt\"], recursive=True\n",
    ")\n",
    "docs = reader.load_data()"
   ]
  },
  {
   "cell_type": "markdown",
   "id": "0cf6a53b-9c9c-461a-a883-bb2b40468059",
   "metadata": {},
   "source": [
    "Now that we've loaded the extracted data, we can generate embeddings and save them to Milvus. First, start a Milvus server with `milvus-server` (alternatively, see Milvus' [Getting Started](https://milvus.io/docs/milvus_lite.md) page for more ways to connect to the server). If you're starting the server programmatically, it's a good idea to connect with a [context manager](https://realpython.com/python-with-statement/) to automatically close your server connection when your code leaves the context manager's scope.\n",
    "\n",
    "Now, we can create a MilvusVectorStore object, configure it, and then create an index on it from the loaded documents. Only run one of the two below cells depending on whether you want to use OpenAI or a local model. OpenAI usage may be rate-limited or incur charges, while using a local model may take longer to download and more resources to generate embeddings."
   ]
  },
  {
   "cell_type": "code",
   "execution_count": 17,
   "id": "e2e2d23a-8c7a-4285-8f5f-33af874e624a",
   "metadata": {},
   "outputs": [],
   "source": [
    "# Using OpenAI\n",
    "\n",
    "vector_store = MilvusVectorStore(\n",
    "    dim=1536,\n",
    "    host = \"127.0.0.1\",\n",
    "    port = default_server.listen_port\n",
    ")\n",
    "storage_context = StorageContext.from_defaults(vector_store=vector_store)\n",
    "index = VectorStoreIndex.from_documents(docs, storage_context=storage_context)"
   ]
  },
  {
   "cell_type": "code",
   "execution_count": null,
   "id": "293b0266-f10a-47e1-9974-7d7701c7a8f8",
   "metadata": {},
   "outputs": [],
   "source": [
    "# Using a local embedding model\n",
    "service_context = ServiceContext.from_defaults(embed_model=\"local:BAAI/bge-large-en\")\n",
    "\n",
    "vector_store = MilvusVectorStore(\n",
    "    dim=1024,\n",
    "    host = \"127.0.0.1\",\n",
    "    port = default_server.listen_port\n",
    ")\n",
    "storage_context = StorageContext.from_defaults(vector_store=vector_store)\n",
    "index = VectorStoreIndex.from_documents(docs, storage_context=storage_context, service_context=service_context)"
   ]
  },
  {
   "cell_type": "markdown",
   "id": "189b9f3d-a382-418b-bf5c-9744259829ad",
   "metadata": {},
   "source": [
    "Once this is done, we can create a query engine from the index and query via that."
   ]
  },
  {
   "cell_type": "code",
   "execution_count": 19,
   "id": "81ca4549-0b35-45d8-8c4a-134228f280f3",
   "metadata": {},
   "outputs": [],
   "source": [
    "query_engine = index.as_query_engine()"
   ]
  },
  {
   "cell_type": "code",
   "execution_count": 20,
   "id": "75e58495-86b8-4d5d-ba5f-ae78f593a099",
   "metadata": {},
   "outputs": [
    {
     "name": "stdout",
     "output_type": "stream",
     "text": [
      "A list is a compound data type in Python that is used to group together other values. It is written as a list of comma-separated values between square brackets. Lists can contain items of different types, but usually, the items have the same type. Lists are mutable, which means their content can be changed. They support operations like indexing, slicing, concatenation, and adding new items. Lists can also be nested, meaning they can contain other lists.\n",
      "---\n",
      "To create a dictionary in Python, you can use a pair of braces \"{}\" to create an empty dictionary. If you want to add initial key-value pairs to the dictionary, you can place a comma-separated list of key:value pairs within the braces. For example:\n",
      "\n",
      "```\n",
      "my_dict = {}  # creates an empty dictionary\n",
      "\n",
      "my_dict = {'key1': 'value1', 'key2': 'value2'}  # creates a dictionary with initial key-value pairs\n",
      "```\n",
      "\n",
      "You can also use the \"dict()\" constructor to build dictionaries directly from sequences of key-value pairs. For example:\n",
      "\n",
      "```\n",
      "my_dict = dict([('key1', 'value1'), ('key2', 'value2')])  # creates a dictionary from a sequence of key-value pairs\n",
      "```\n",
      "\n",
      "Additionally, you can use dict comprehensions to create dictionaries from arbitrary key and value expressions. For example:\n",
      "\n",
      "```\n",
      "my_dict = {x: x**2 for x in (1, 2, 3)}  # creates a dictionary with keys as numbers and values as their squares\n",
      "```\n",
      "\n",
      "Finally, when the keys are simple strings, you can specify pairs using keyword arguments. For example:\n",
      "\n",
      "```\n",
      "my_dict = dict(key1='value1', key2='value2')  # creates a dictionary using keyword arguments\n",
      "```\n"
     ]
    }
   ],
   "source": [
    "print(query_engine.query(\"What is a list?\"))\n",
    "print(\"---\")\n",
    "print(query_engine.query(\"How do I create a dictionary?\"))"
   ]
  }
 ],
 "metadata": {
  "kernelspec": {
   "display_name": "ask-python",
   "language": "python",
   "name": "ask-python"
  },
  "language_info": {
   "codemirror_mode": {
    "name": "ipython",
    "version": 3
   },
   "file_extension": ".py",
   "mimetype": "text/x-python",
   "name": "python",
   "nbconvert_exporter": "python",
   "pygments_lexer": "ipython3",
   "version": "3.11.5"
  }
 },
 "nbformat": 4,
 "nbformat_minor": 5
}
